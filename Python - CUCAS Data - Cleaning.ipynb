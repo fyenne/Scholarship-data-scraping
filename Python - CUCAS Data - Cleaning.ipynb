{
 "cells": [
  {
   "cell_type": "code",
   "execution_count": 1,
   "metadata": {},
   "outputs": [],
   "source": [
    "import numpy as np\n",
    "import pandas as pd\n",
    "import matplotlib.pyplot as plt\n",
    "import seaborn as sns"
   ]
  },
  {
   "cell_type": "code",
   "execution_count": 2,
   "metadata": {},
   "outputs": [],
   "source": [
    "data = pd.read_csv('test_new.csv')"
   ]
  },
  {
   "cell_type": "code",
   "execution_count": 3,
   "metadata": {},
   "outputs": [
    {
     "data": {
      "text/html": [
       "<div>\n",
       "<style scoped>\n",
       "    .dataframe tbody tr th:only-of-type {\n",
       "        vertical-align: middle;\n",
       "    }\n",
       "\n",
       "    .dataframe tbody tr th {\n",
       "        vertical-align: top;\n",
       "    }\n",
       "\n",
       "    .dataframe thead th {\n",
       "        text-align: right;\n",
       "    }\n",
       "</style>\n",
       "<table border=\"1\" class=\"dataframe\">\n",
       "  <thead>\n",
       "    <tr style=\"text-align: right;\">\n",
       "      <th></th>\n",
       "      <th>schol_id</th>\n",
       "      <th>University</th>\n",
       "      <th>Major</th>\n",
       "      <th>Level</th>\n",
       "      <th>Language</th>\n",
       "      <th>Start Date</th>\n",
       "      <th>Tuition Covered</th>\n",
       "      <th>Accomodation covered?</th>\n",
       "      <th>Living Expense Covered?</th>\n",
       "      <th>Tuition fees to pay</th>\n",
       "      <th>Original Tuition fee</th>\n",
       "      <th>Accomodation to pay</th>\n",
       "      <th>Living expense to pay</th>\n",
       "    </tr>\n",
       "  </thead>\n",
       "  <tbody>\n",
       "    <tr>\n",
       "      <th>0</th>\n",
       "      <td>1</td>\n",
       "      <td>Shanghai University of Traditional Chinese Med...</td>\n",
       "      <td>Summer School (TCM)</td>\n",
       "      <td>Non-Degree</td>\n",
       "      <td>English</td>\n",
       "      <td>Jun,2020</td>\n",
       "      <td>free</td>\n",
       "      <td>No</td>\n",
       "      <td>No</td>\n",
       "      <td>0</td>\n",
       "      <td>7500</td>\n",
       "      <td>6500-13000/ four weeks ( hotel fee around the ...</td>\n",
       "      <td>About 1000/4 weeks</td>\n",
       "    </tr>\n",
       "    <tr>\n",
       "      <th>1</th>\n",
       "      <td>2</td>\n",
       "      <td>Changchun University of Science and Technology</td>\n",
       "      <td>Preparatory Program of Humanities Direction(Pa...</td>\n",
       "      <td>Non-Degree</td>\n",
       "      <td>Chinese</td>\n",
       "      <td>Sep,2019</td>\n",
       "      <td>10,000</td>\n",
       "      <td>No</td>\n",
       "      <td>No</td>\n",
       "      <td>10,000</td>\n",
       "      <td>20,000</td>\n",
       "      <td>About 1500/month</td>\n",
       "      <td>About 1500/month</td>\n",
       "    </tr>\n",
       "    <tr>\n",
       "      <th>2</th>\n",
       "      <td>3</td>\n",
       "      <td>Changchun University of Science and Technology</td>\n",
       "      <td>Preparatory Program of Business Direction(Path A)</td>\n",
       "      <td>Non-Degree</td>\n",
       "      <td>Chinese</td>\n",
       "      <td>Sep,2019</td>\n",
       "      <td>10,000</td>\n",
       "      <td>No</td>\n",
       "      <td>No</td>\n",
       "      <td>10,000</td>\n",
       "      <td>20,000</td>\n",
       "      <td>About 1500/month</td>\n",
       "      <td>About 1500/month</td>\n",
       "    </tr>\n",
       "    <tr>\n",
       "      <th>3</th>\n",
       "      <td>4</td>\n",
       "      <td>Changchun University of Science and Technology</td>\n",
       "      <td>Preparatory Program of Science and Engineering...</td>\n",
       "      <td>Non-Degree</td>\n",
       "      <td>Chinese</td>\n",
       "      <td>Sep,2019</td>\n",
       "      <td>10,000</td>\n",
       "      <td>No</td>\n",
       "      <td>No</td>\n",
       "      <td>10,000</td>\n",
       "      <td>20,000</td>\n",
       "      <td>About 1500/month</td>\n",
       "      <td>About 1500/month</td>\n",
       "    </tr>\n",
       "    <tr>\n",
       "      <th>4</th>\n",
       "      <td>5</td>\n",
       "      <td>Qingdao University</td>\n",
       "      <td>Long-term Chinese Language Program</td>\n",
       "      <td>Non-Degree</td>\n",
       "      <td>Chinese</td>\n",
       "      <td>Sep,2019</td>\n",
       "      <td>7000</td>\n",
       "      <td>yes</td>\n",
       "      <td>yes</td>\n",
       "      <td>0</td>\n",
       "      <td>7000</td>\n",
       "      <td>0</td>\n",
       "      <td>0/month</td>\n",
       "    </tr>\n",
       "  </tbody>\n",
       "</table>\n",
       "</div>"
      ],
      "text/plain": [
       "   schol_id                                         University  \\\n",
       "0         1  Shanghai University of Traditional Chinese Med...   \n",
       "1         2     Changchun University of Science and Technology   \n",
       "2         3     Changchun University of Science and Technology   \n",
       "3         4     Changchun University of Science and Technology   \n",
       "4         5                                 Qingdao University   \n",
       "\n",
       "                                               Major       Level Language  \\\n",
       "0                                Summer School (TCM)  Non-Degree  English   \n",
       "1  Preparatory Program of Humanities Direction(Pa...  Non-Degree  Chinese   \n",
       "2  Preparatory Program of Business Direction(Path A)  Non-Degree  Chinese   \n",
       "3  Preparatory Program of Science and Engineering...  Non-Degree  Chinese   \n",
       "4                 Long-term Chinese Language Program  Non-Degree  Chinese   \n",
       "\n",
       "  Start Date Tuition Covered Accomodation covered? Living Expense Covered?  \\\n",
       "0   Jun,2020            free                    No                      No   \n",
       "1   Sep,2019          10,000                    No                      No   \n",
       "2   Sep,2019          10,000                    No                      No   \n",
       "3   Sep,2019          10,000                    No                      No   \n",
       "4   Sep,2019            7000                   yes                     yes   \n",
       "\n",
       "  Tuition fees to pay Original Tuition fee  \\\n",
       "0                   0                 7500   \n",
       "1              10,000               20,000   \n",
       "2              10,000               20,000   \n",
       "3              10,000               20,000   \n",
       "4                   0                 7000   \n",
       "\n",
       "                                 Accomodation to pay Living expense to pay  \n",
       "0  6500-13000/ four weeks ( hotel fee around the ...    About 1000/4 weeks  \n",
       "1                                   About 1500/month      About 1500/month  \n",
       "2                                   About 1500/month      About 1500/month  \n",
       "3                                   About 1500/month      About 1500/month  \n",
       "4                                                  0               0/month  "
      ]
     },
     "execution_count": 3,
     "metadata": {},
     "output_type": "execute_result"
    }
   ],
   "source": [
    "data.head()"
   ]
  },
  {
   "cell_type": "markdown",
   "metadata": {},
   "source": [
    "# Cleaning Requirements\n",
    "\n",
    "- PART 1 - Convert start date to two columns (Month, Year)\n",
    "- PART 2 - Convert the contents of the field Tuition Covered\n",
    "- PART 3 - Convert the contents of the field Accomodation Covered\n",
    "- PART 4 - Convert the contents of the field Living expense Covered\n",
    "- PART 5 - Convert tuition fees, original tuition fees to pay to currency (RMB)\n",
    "- PART 6 - Convert Accomodation to pay to two fields (Accomodation price, Accomodation duration)\n",
    "- PART 7 - Convert Living expense to pay to two fields (living expense , living duration)"
   ]
  },
  {
   "cell_type": "markdown",
   "metadata": {},
   "source": [
    "### PART 1 - Convert start date to two columns"
   ]
  },
  {
   "cell_type": "code",
   "execution_count": 4,
   "metadata": {},
   "outputs": [],
   "source": [
    "i=0\n",
    "start_month = []\n",
    "start_year = []\n",
    "data['Start_Month'] = \"\"\n",
    "data['Start_Year'] = \"\"\n",
    "for i in range(0,len(data)):\n",
    "    start_month.append(data['Start Date'][i].split(',')[0])\n",
    "    start_year.append(data['Start Date'][i].split(',')[1])"
   ]
  },
  {
   "cell_type": "code",
   "execution_count": 5,
   "metadata": {},
   "outputs": [],
   "source": [
    "data['Start_Month'] = start_month\n",
    "data['Start_Year'] = start_year"
   ]
  },
  {
   "cell_type": "code",
   "execution_count": 6,
   "metadata": {},
   "outputs": [],
   "source": [
    "data = data.drop('Start Date',axis=1)"
   ]
  },
  {
   "cell_type": "markdown",
   "metadata": {},
   "source": [
    "### PART 2 - Convert the contents of the field tuition covered"
   ]
  },
  {
   "cell_type": "code",
   "execution_count": 7,
   "metadata": {},
   "outputs": [
    {
     "data": {
      "text/plain": [
       "30,000                               210\n",
       "No                                   178\n",
       "18,800                               162\n",
       "20,000                               159\n",
       "15000-30000                          135\n",
       "Not more than RMB 25,000 per year    120\n",
       "7500                                 109\n",
       "17,500-35,000                        103\n",
       "free                                  93\n",
       "15,000-30,000                         85\n",
       "9,000                                 73\n",
       "15,000                                69\n",
       "35,000-42,900                         67\n",
       "8,000                                 64\n",
       "Free                                  64\n",
       "16,800                                64\n",
       "20000                                 62\n",
       "10,000                                58\n",
       "9100-26000                            58\n",
       "25,000.00-34,000.00                   57\n",
       "11500-44500                           57\n",
       "34,000.00-51,000.00                   57\n",
       "7,800-8,800                           56\n",
       "15,000-26,000                         55\n",
       "20000-35000                           53\n",
       "3850-16,200                           46\n",
       "80000                                 46\n",
       "15,000-18,000                         42\n",
       "0                                     42\n",
       "19800-25000                           41\n",
       "                                    ... \n",
       "12000-20,000                          13\n",
       "25,000 -27,800                        11\n",
       "14,000                                 9\n",
       "28,000-35,000                          9\n",
       "28,000-42,000                          9\n",
       "15000rmb                               8\n",
       "0-30000                                8\n",
       "11,000                                 7\n",
       "10000                                  6\n",
       "45,000                                 5\n",
       "28000                                  5\n",
       "8,000 - 10,000                         4\n",
       "33,000                                 3\n",
       "17000-20000                            3\n",
       "1000-5000                              2\n",
       "5,000-10,000                           2\n",
       "20000rmb                               2\n",
       "14000                                  2\n",
       "6,000                                  1\n",
       "3000                                   1\n",
       "7000                                   1\n",
       "10000-25000                            1\n",
       "10000 rmb                              1\n",
       "6,500                                  1\n",
       "6000                                   1\n",
       "25700                                  1\n",
       "18,000                                 1\n",
       "4000                                   1\n",
       "10,000 - 30,000                        1\n",
       "4000-8000                              1\n",
       "Name: Tuition Covered, Length: 93, dtype: int64"
      ]
     },
     "execution_count": 7,
     "metadata": {},
     "output_type": "execute_result"
    }
   ],
   "source": [
    "data['Tuition Covered'].value_counts()"
   ]
  },
  {
   "cell_type": "code",
   "execution_count": 8,
   "metadata": {},
   "outputs": [],
   "source": [
    "tuition_covered_unique = data['Tuition Covered'].value_counts().keys()\n",
    "count=0\n",
    "for count in range(2): #Since we'LL be getting some data from tuition_orig, we'll have to repeat the loop\n",
    "    tuition_covered_unique = data['Tuition Covered'].value_counts().keys()\n",
    "    for i in tuition_covered_unique:\n",
    "        try:\n",
    "            i_copy = i\n",
    "            i = i.strip()\n",
    "            #Convert free,Free,Yes to data from original tuition fee\n",
    "            temp = data['Tuition Covered']\n",
    "            data.loc[temp=='free','Tuition Covered'] = data['Original Tuition fee']\n",
    "            data.loc[temp=='Free','Tuition Covered'] = data['Original Tuition fee']\n",
    "            data.loc[temp=='Yes','Tuition Covered'] = data['Original Tuition fee']\n",
    "\n",
    "            #Replace No to 0\n",
    "            data.loc[temp=='No','Tuition Covered'] = 0\n",
    "\n",
    "            #Replace actual recognized numbers to int\n",
    "            try:\n",
    "                data['Tuition Covered'] = data['Tuition Covered'].replace(i, int(i))\n",
    "            except:\n",
    "                pass\n",
    "\n",
    "            #Find numbers with only ',' in it and convert it to int\n",
    "            try:\n",
    "                if str(i).find(',')!=-1:\n",
    "                    if str(i).find('-')==-1:\n",
    "                        new_i=int(i.replace(',',''))\n",
    "                        data['Tuition Covered'] = data['Tuition Covered'].replace(i,new_i)\n",
    "            except:\n",
    "                temp = re.findall(r'\\d+', i) \n",
    "                res = list(map(int, temp))\n",
    "                data['Tuition Covered'] = data['Tuition Covered'].replace(i,int(res[0]))\n",
    "\n",
    "            #Not more than RMB 25,000 per year to 25000\n",
    "            data['Tuition Covered'] = data['Tuition Covered'].replace('Not more than RMB 25,000 per year',25000)\n",
    "\n",
    "            #Replace **-** to the average of both the numbers(No commas included)\n",
    "            try:\n",
    "                if str(i).find('-')!=-1:\n",
    "                    if str(i).find(',')==-1:\n",
    "                        left_num = i[:str(i).find('-')]\n",
    "                        right_num = i[str(i).find('-')+1:]\n",
    "                        average = (int(left_num) + int(right_num))/2\n",
    "                        data['Tuition Covered'] = data['Tuition Covered'].replace(i,average)\n",
    "            except:\n",
    "                pass\n",
    "\n",
    "            #Replace **-** to the average of both the numbers(commas included)\n",
    "            try:\n",
    "                if str(i).find('-')!=-1:\n",
    "                    if str(i).find(',')!=-1:\n",
    "                        left_num = i[:str(i).find('-')]\n",
    "                        left_num = left_num.replace(',','')\n",
    "                        right_num = i[str(i).find('-')+1:]\n",
    "                        right_num = right_num.replace(',','')\n",
    "                        average = (float(left_num) + float(right_num)) /2 \n",
    "                        data['Tuition Covered'] = data['Tuition Covered'].replace(i_copy,average)\n",
    "            except:\n",
    "                pass\n",
    "            \n",
    "            #Convert numbers with rmb in the end to int\n",
    "            try:\n",
    "                if str(i).find('rmb')!=-1:\n",
    "                    new_i = int(str(i).replace('rmb',''))\n",
    "                    data['Tuition Covered'] = data['Tuition Covered'].replace(i,new_i)\n",
    "            except:\n",
    "                pass\n",
    "\n",
    "            #Convert data with 'to' in it to int\n",
    "            try:\n",
    "                if str(i).find('to')!=-1:\n",
    "                    left_num = int(str(i)[:str(i).find('to')])\n",
    "                    right_num = int(str(i)[str(i).find('to')+2:])\n",
    "                    average = (left_num + right_num)/2\n",
    "                    data['Tuition Covered'] = data['Tuition Covered'].replace(i,average)\n",
    "                    \n",
    "            except:\n",
    "                pass\n",
    "            \n",
    "        except:\n",
    "            pass"
   ]
  },
  {
   "cell_type": "code",
   "execution_count": 9,
   "metadata": {},
   "outputs": [],
   "source": [
    "schol_ids = list(data[data['Tuition Covered']=='24000 8000'].index.values)\n",
    "data = data.drop(data.index[schol_ids])"
   ]
  },
  {
   "cell_type": "code",
   "execution_count": 10,
   "metadata": {},
   "outputs": [],
   "source": [
    "data['Tuition Covered'] = pd.to_numeric(data['Tuition Covered'])"
   ]
  },
  {
   "cell_type": "markdown",
   "metadata": {},
   "source": [
    "### PART 3 - Accomodation Covered"
   ]
  },
  {
   "cell_type": "code",
   "execution_count": 11,
   "metadata": {},
   "outputs": [
    {
     "data": {
      "text/plain": [
       "No           2503\n",
       "Yes           395\n",
       "yes           211\n",
       "0             129\n",
       "no            111\n",
       "4,000          60\n",
       "8400.00        57\n",
       "10000          48\n",
       "Free           33\n",
       "12,000.00      29\n",
       "Name: Accomodation covered?, dtype: int64"
      ]
     },
     "execution_count": 11,
     "metadata": {},
     "output_type": "execute_result"
    }
   ],
   "source": [
    "data['Accomodation covered?'].value_counts()"
   ]
  },
  {
   "cell_type": "code",
   "execution_count": 12,
   "metadata": {},
   "outputs": [],
   "source": [
    "accomodation_covered_unique = data['Accomodation covered?'].value_counts().keys()\n",
    "\n",
    "for i in accomodation_covered_unique:\n",
    "    #Combine No, no, 0\n",
    "    if (i=='No'):\n",
    "        data['Accomodation covered?'] = data['Accomodation covered?'].replace(i,0)\n",
    "    elif (i=='no'):\n",
    "        data['Accomodation covered?'] = data['Accomodation covered?'].replace(i,0)\n",
    "    elif (i=='0'):\n",
    "        data['Accomodation covered?'] = data['Accomodation covered?'].replace(i,0)\n",
    "    #Combine everything else to 1\n",
    "    else:\n",
    "        data['Accomodation covered?'] = data['Accomodation covered?'].replace(i,1)"
   ]
  },
  {
   "cell_type": "code",
   "execution_count": 13,
   "metadata": {},
   "outputs": [
    {
     "data": {
      "text/plain": [
       "0    2743\n",
       "1     833\n",
       "Name: Accomodation covered?, dtype: int64"
      ]
     },
     "execution_count": 13,
     "metadata": {},
     "output_type": "execute_result"
    }
   ],
   "source": [
    "data['Accomodation covered?'].value_counts()"
   ]
  },
  {
   "cell_type": "markdown",
   "metadata": {},
   "source": [
    "### PART 4 - Convert the contents of the field Living expense Covered"
   ]
  },
  {
   "cell_type": "code",
   "execution_count": 14,
   "metadata": {},
   "outputs": [
    {
     "data": {
      "text/plain": [
       "No                                     2404\n",
       "Yes                                     382\n",
       "no                                      156\n",
       "3000 RMB / month                        121\n",
       "2000/month                               86\n",
       "yes                                      85\n",
       "44,000.00                                57\n",
       "No\\nOther fee about 200                  48\n",
       "No \\nOther fee about 200                 48\n",
       "0                                        37\n",
       "1400/month                               30\n",
       "42,800.00                                29\n",
       "2500/month                               24\n",
       "No\\nOther fee about 7200                 22\n",
       "1,000 RMB/month                          21\n",
       "1800/month                               13\n",
       "1200 RMB/month                            8\n",
       "800 RMB/month                             3\n",
       "2500/month\\nMedical Insurance: Free       2\n",
       "Name: Living Expense Covered?, dtype: int64"
      ]
     },
     "execution_count": 14,
     "metadata": {},
     "output_type": "execute_result"
    }
   ],
   "source": [
    "data['Living Expense Covered?'].value_counts()"
   ]
  },
  {
   "cell_type": "code",
   "execution_count": 15,
   "metadata": {},
   "outputs": [],
   "source": [
    "living_covered_unique = data['Living Expense Covered?'].value_counts().keys()"
   ]
  },
  {
   "cell_type": "code",
   "execution_count": 16,
   "metadata": {},
   "outputs": [],
   "source": [
    "for i in living_covered_unique:\n",
    "    i_upper = str(i).upper()\n",
    "    if i_upper.find('NO')!=-1:\n",
    "        data['Living Expense Covered?'] = data['Living Expense Covered?'].replace(i,0)\n",
    "    else:\n",
    "        data['Living Expense Covered?'] = data['Living Expense Covered?'].replace(i,1)"
   ]
  },
  {
   "cell_type": "code",
   "execution_count": 17,
   "metadata": {},
   "outputs": [
    {
     "data": {
      "text/plain": [
       "0    2678\n",
       "1     898\n",
       "Name: Living Expense Covered?, dtype: int64"
      ]
     },
     "execution_count": 17,
     "metadata": {},
     "output_type": "execute_result"
    }
   ],
   "source": [
    "data['Living Expense Covered?'].value_counts()"
   ]
  },
  {
   "cell_type": "markdown",
   "metadata": {},
   "source": [
    "### PART 5 - Convert tuition fees, original tuition fees to pay to currency (RMB)"
   ]
  },
  {
   "cell_type": "code",
   "execution_count": 18,
   "metadata": {},
   "outputs": [
    {
     "data": {
      "text/plain": [
       "0                                           895\n",
       "11000-26000                                 135\n",
       "0- 32400                                    120\n",
       "10,000                                      117\n",
       "0 RMB                                       101\n",
       "5,000 - 15,000 RMB                           77\n",
       "0-17,500                                     76\n",
       "35000                                        76\n",
       "8,500-12,500                                 69\n",
       "0-3,000                                      69\n",
       "0- 11000                                     65\n",
       "30000                                        64\n",
       "0-15,000                                     64\n",
       "0 - 10,400 RMB                               64\n",
       "0 - 10,400                                   64\n",
       "0-18000                                      62\n",
       "0-13000                                      58\n",
       "0-11500                                      57\n",
       "7,800-8,800                                  56\n",
       "1000- 11000                                  55\n",
       "15000-30000                                  53\n",
       "15,000-17,000                                48\n",
       "0-4,000                                      48\n",
       "9,000                                        48\n",
       "0 -12,350                                    46\n",
       "0-9,000-                                     42\n",
       "0-25000                                      42\n",
       "12,500-16,500                                40\n",
       "11,900 - 14,000                              40\n",
       "0 - 7,000                                    39\n",
       "                                           ... \n",
       "13,900                                        5\n",
       "27920-31920                                   4\n",
       "8000 - 16,000                                 4\n",
       "14,900-19,900                                 4\n",
       "0 - 8000                                      3\n",
       "13000                                         3\n",
       "5000                                          3\n",
       "0 - 22000                                     3\n",
       "0Accommodation: about RMB 450-1800/month      3\n",
       "15000                                         2\n",
       "16,000-32,000                                 2\n",
       "1,000-2,000                                   2\n",
       "0-22500                                       2\n",
       "12200-17200                                   1\n",
       "0-4000                                        1\n",
       "8000                                          1\n",
       "8400                                          1\n",
       "2600-7600                                     1\n",
       "5000-20000                                    1\n",
       "40500                                         1\n",
       "0- 22500                                      1\n",
       "22500                                         1\n",
       "3600                                          1\n",
       "4600                                          1\n",
       "3,300-18,300                                  1\n",
       "10000                                         1\n",
       "0 - 20,000                                    1\n",
       "6500                                          1\n",
       "69,000                                        1\n",
       "0-9000                                        1\n",
       "Name: Tuition fees to pay, Length: 101, dtype: int64"
      ]
     },
     "execution_count": 18,
     "metadata": {},
     "output_type": "execute_result"
    }
   ],
   "source": [
    "data['Tuition fees to pay'].value_counts()"
   ]
  },
  {
   "cell_type": "markdown",
   "metadata": {},
   "source": [
    "#### A - Tuition Fees"
   ]
  },
  {
   "cell_type": "markdown",
   "metadata": {},
   "source": [
    "Types of numbers listed\n",
    "1. integer\n",
    "2. 50-100\n",
    "3. 50,000\n",
    "4. 0-20,000\n",
    "5. 10,000-20,000\n",
    "6. 0 RMB\n",
    "7. 5,000 - 15,000 RMB\n",
    "8. 0Acco...\n",
    "9. 100 to 200"
   ]
  },
  {
   "cell_type": "code",
   "execution_count": 19,
   "metadata": {},
   "outputs": [],
   "source": [
    "tuition_topay_unique = data['Tuition fees to pay'].value_counts().index\n",
    "for i in tuition_topay_unique:\n",
    "    data['Tuition fees to pay'] = data['Tuition fees to pay'].replace(str(i),str(i).strip()) #To make sure that the data has no additional white spaces"
   ]
  },
  {
   "cell_type": "code",
   "execution_count": 20,
   "metadata": {},
   "outputs": [],
   "source": [
    "def remove_commas(i):\n",
    "    return str(i).replace(',','')\n",
    "def remove_rmb(i):\n",
    "    return str(i).replace('RMB','')\n",
    "def average(i):\n",
    "    try:\n",
    "        if(i[-1]=='-'):\n",
    "            i = i[:len(i)-1]\n",
    "        index = i.find('-')\n",
    "        left = int(i[:index])\n",
    "        right = int(i[index+1:])\n",
    "        average = (left+right)/2\n",
    "        return average\n",
    "    except:\n",
    "        return 0"
   ]
  },
  {
   "cell_type": "code",
   "execution_count": 21,
   "metadata": {},
   "outputs": [],
   "source": [
    "for i in tuition_topay_unique:\n",
    "    i_copy = i\n",
    "    if i.find('to')!=-1:\n",
    "        i = i.replace('to','-')\n",
    "    if i.find(',')!=-1:\n",
    "        i = remove_commas(i)\n",
    "    if i.find('RMB')!=-1:\n",
    "        i = remove_rmb(i)\n",
    "    if i.find('-')!=-1:\n",
    "        i = average(i)\n",
    "    data['Tuition fees to pay'] = data['Tuition fees to pay'].replace(i_copy, int(i))"
   ]
  },
  {
   "cell_type": "markdown",
   "metadata": {},
   "source": [
    "#### B - Original Tuition Fees"
   ]
  },
  {
   "cell_type": "code",
   "execution_count": 22,
   "metadata": {},
   "outputs": [],
   "source": [
    "data['Original Tuition fee'] = data['Tuition Covered'] + data['Tuition fees to pay']"
   ]
  },
  {
   "cell_type": "markdown",
   "metadata": {},
   "source": [
    "### PART 6 - Convert Accomodation to pay to two fields (Accomodation price, Accomodation duration)"
   ]
  },
  {
   "cell_type": "code",
   "execution_count": 23,
   "metadata": {},
   "outputs": [
    {
     "data": {
      "text/plain": [
       "Index(['0', 'About 1200/month', 'About 1000/month', 'About 810/month',\n",
       "       'About 400/month', 'About 1500/month', '0-1500/month',\n",
       "       'About 400-600/month', 'About 600/month', 'About 360/month',\n",
       "       'About 400-1600/month', '3,000 for one year', 'About1500/month',\n",
       "       'About 450-1200/month', 'About 900/month', 'About 60-70/day',\n",
       "       '1,000/month', 'About 1950/per month', 'About 120/month',\n",
       "       'About 4800 /Term', '0-1200/month', '0-4,000', '2500/year', '60/day',\n",
       "       '1500/month', 'About 4,000/year 0', '0- 1500/month',\n",
       "       '12,000 - 36,000/year', 'About 5000RMB/per year',\n",
       "       '12,000 - 36,000 /year', '700/month', '1200RMB/month', '4,000/year 0',\n",
       "       'about RMB 6200/semester', 'About 1100-2000/month', '6600RMB/semester',\n",
       "       '1800/year', '1200 / month', 'about RMB 450-1800', 'About 4000/year 0',\n",
       "       '4000/year', '1950 0-1950RMB', 'about RMB 450-1800/month',\n",
       "       'About 5000/year', 'RMB 4,000 0', 'About 1700/month', 'About 50/day',\n",
       "       'Around2400/month', 'About 6000/year', 'About 2000/month',\n",
       "       'About 3000/month', 'About 800-1200/month', 'About 750/month',\n",
       "       'about RMB 1500/month',\n",
       "       '6500-13000/ four weeks ( hotel fee around the univesity)',\n",
       "       '3300RMB/semester', '1,500 RMB/month', 'About 390/month', '3000/year',\n",
       "       'About 3000/year', 'About 833-1083/month', 'About 1050RMB/Month'],\n",
       "      dtype='object')"
      ]
     },
     "execution_count": 23,
     "metadata": {},
     "output_type": "execute_result"
    }
   ],
   "source": [
    "len(data['Accomodation to pay'].value_counts().keys()) #62 keys \n",
    "accomodation_topay_unique = data['Accomodation to pay'].value_counts().keys()\n",
    "accomodation_topay_unique"
   ]
  },
  {
   "cell_type": "code",
   "execution_count": 24,
   "metadata": {},
   "outputs": [],
   "source": [
    "def get_value_duration(i):\n",
    "    index = i.find('/')\n",
    "    value = i[:index]\n",
    "    duration = i[index+1:]\n",
    "    return value,duration"
   ]
  },
  {
   "cell_type": "code",
   "execution_count": 25,
   "metadata": {},
   "outputs": [],
   "source": [
    "temp = data['Accomodation to pay']\n",
    "data['Accomodation_To_Pay'] = -1\n",
    "data['Accomodation_duration'] = -1\n",
    "for i in accomodation_topay_unique:\n",
    "    i_copy = i\n",
    "    i = str(i).upper().replace('ABOUT','')\n",
    "    i = str(i).upper().replace('AROUND','')\n",
    "    i = str(i).upper().replace('RMB','')\n",
    "    if i.find('/')!=-1:\n",
    "        value,duration = get_value_duration(i)\n",
    "        data.loc[temp==i_copy,'Accomodation_To_Pay'] = value\n",
    "        data.loc[temp==i_copy,'Accomodation_duration'] = duration\n",
    "    elif i=='0':\n",
    "        data.loc[temp==i_copy,'Accomodation_To_Pay'] = 0\n",
    "        data.loc[temp==i_copy,'Accomodation_duration'] = 0\n",
    "    elif i=='3,000 FOR ONE YEAR':\n",
    "        data.loc[temp==i_copy,'Accomodation_To_Pay'] = 3000\n",
    "        data.loc[temp==i_copy,'Accomodation_duration'] = 'YEAR'\n",
    "    elif i=='0-4,000':\n",
    "        data.loc[temp==i_copy,'Accomodation_To_Pay'] = 2000\n",
    "        data.loc[temp==i_copy,'Accomodation_duration'] = 'YEAR'   \n",
    "    elif i=='  450-1800':\n",
    "        data.loc[temp==i_copy,'Accomodation_To_Pay'] = (450+1800)/2\n",
    "        data.loc[temp==i_copy,'Accomodation_duration'] = 'YEAR'  \n",
    "    elif i=='1950 0-1950':\n",
    "        data.loc[temp==i_copy,'Accomodation_To_Pay'] = 1950\n",
    "        data.loc[temp==i_copy,'Accomodation_duration'] = 'YEAR'   \n",
    "    elif i==' 4,000 0':\n",
    "        data.loc[temp==i_copy,'Accomodation_To_Pay'] = 4000\n",
    "        data.loc[temp==i_copy,'Accomodation_duration'] = 'YEAR' \n",
    "    else:\n",
    "        print(i)"
   ]
  },
  {
   "cell_type": "code",
   "execution_count": 26,
   "metadata": {},
   "outputs": [],
   "source": [
    "data = data.drop('Accomodation to pay',axis=1)"
   ]
  },
  {
   "cell_type": "markdown",
   "metadata": {},
   "source": [
    "#### A - Accomodation to pay"
   ]
  },
  {
   "cell_type": "code",
   "execution_count": 27,
   "metadata": {},
   "outputs": [],
   "source": [
    "accomodation_topay_unique = data['Accomodation_To_Pay'].value_counts().index"
   ]
  },
  {
   "cell_type": "code",
   "execution_count": 28,
   "metadata": {},
   "outputs": [],
   "source": [
    "def average(i):\n",
    "    try:\n",
    "        if(i[-1]=='-'):\n",
    "            i = i[:len(i)-1]\n",
    "        index = i.find('-')\n",
    "        left = int(i[:index])\n",
    "        right = int(i[index+1:])\n",
    "        average = (left+right)/2\n",
    "        return average\n",
    "    except:\n",
    "        return 0\n",
    "def remove_commas(i):\n",
    "    return str(i).replace(',','')"
   ]
  },
  {
   "cell_type": "code",
   "execution_count": 29,
   "metadata": {},
   "outputs": [],
   "source": [
    "for i in accomodation_topay_unique:\n",
    "    i_copy = i\n",
    "    i = str(i).replace(str(i),str(i).strip())\n",
    "    if str(i).find(',')!=-1:\n",
    "        i = remove_commas(i)\n",
    "    if str(i).find('-')!=-1:\n",
    "        value = float(average(i))\n",
    "        data['Accomodation_To_Pay'] = data['Accomodation_To_Pay'].replace(i_copy, value)\n",
    "    else:\n",
    "        data['Accomodation_To_Pay'] = data['Accomodation_To_Pay'].replace(i_copy, float(i))"
   ]
  },
  {
   "cell_type": "code",
   "execution_count": 30,
   "metadata": {},
   "outputs": [
    {
     "data": {
      "text/plain": [
       "1000.0     518\n",
       "0.0        437\n",
       "1200.0     381\n",
       "1500.0     311\n",
       "810.0      240\n",
       "600.0      190\n",
       "400.0      189\n",
       "750.0      161\n",
       "500.0      134\n",
       "360.0      107\n",
       "3000.0     106\n",
       "825.0       86\n",
       "900.0       81\n",
       "1950.0      72\n",
       "65.0        72\n",
       "4000.0      65\n",
       "120.0       63\n",
       "4800.0      59\n",
       "2000.0      49\n",
       "24000.0     46\n",
       "2500.0      46\n",
       "60.0        42\n",
       "5000.0      26\n",
       "700.0       21\n",
       "6200.0      14\n",
       "1550.0      14\n",
       "6600.0      12\n",
       "1125.0      12\n",
       "1800.0      11\n",
       "1700.0       2\n",
       "50.0         2\n",
       "2400.0       1\n",
       "9750.0       1\n",
       "390.0        1\n",
       "958.0        1\n",
       "3300.0       1\n",
       "1050.0       1\n",
       "6000.0       1\n",
       "Name: Accomodation_To_Pay, dtype: int64"
      ]
     },
     "execution_count": 30,
     "metadata": {},
     "output_type": "execute_result"
    }
   ],
   "source": [
    "data['Accomodation_To_Pay'].value_counts()"
   ]
  },
  {
   "cell_type": "code",
   "execution_count": 31,
   "metadata": {},
   "outputs": [],
   "source": [
    "data[data['Accomodation_To_Pay']==-1]=0"
   ]
  },
  {
   "cell_type": "markdown",
   "metadata": {},
   "source": [
    "#### B - Accomodation duration"
   ]
  },
  {
   "cell_type": "code",
   "execution_count": 32,
   "metadata": {},
   "outputs": [],
   "source": [
    "accomodation_duration_unique = data['Accomodation_duration'].value_counts().index"
   ]
  },
  {
   "cell_type": "code",
   "execution_count": 33,
   "metadata": {},
   "outputs": [],
   "source": [
    "data[data['Accomodation_duration']==-1]=0"
   ]
  },
  {
   "cell_type": "code",
   "execution_count": 34,
   "metadata": {},
   "outputs": [],
   "source": [
    "for i in accomodation_duration_unique:\n",
    "    if str(i).find('YEAR')!=-1:\n",
    "        data['Accomodation_duration'] = data['Accomodation_duration'].replace(i,'YEAR')\n",
    "    if str(i)=='0':\n",
    "        data['Accomodation_duration'] = data['Accomodation_duration'].replace(i,'YEAR')\n",
    "    if str(i).find('MONTH')!=-1:\n",
    "        data['Accomodation_duration'] = data['Accomodation_duration'].replace(i,'MONTH')   \n",
    "    if str(i).find('FOUR')!=-1:\n",
    "        data['Accomodation_duration'] = data['Accomodation_duration'].replace(i,'MONTH') "
   ]
  },
  {
   "cell_type": "code",
   "execution_count": 35,
   "metadata": {},
   "outputs": [
    {
     "data": {
      "text/plain": [
       "MONTH       2575\n",
       "YEAR         799\n",
       "DAY          116\n",
       "TERM          59\n",
       "SEMESTER      27\n",
       "Name: Accomodation_duration, dtype: int64"
      ]
     },
     "execution_count": 35,
     "metadata": {},
     "output_type": "execute_result"
    }
   ],
   "source": [
    "data['Accomodation_duration'].value_counts()"
   ]
  },
  {
   "cell_type": "markdown",
   "metadata": {},
   "source": [
    "### PART 7 - Convert Living expense to pay to two fields (living expense , living duration)"
   ]
  },
  {
   "cell_type": "code",
   "execution_count": 36,
   "metadata": {},
   "outputs": [],
   "source": [
    "data['Living expense to pay'] = data['Living expense to pay'].fillna(0)"
   ]
  },
  {
   "cell_type": "code",
   "execution_count": 37,
   "metadata": {},
   "outputs": [
    {
     "data": {
      "text/plain": [
       "Index([           'About 1000/month',            'About 1500/month',\n",
       "                                 '0',             'About 1500/mont',\n",
       "                                   0,                   '1500/mont',\n",
       "                 '1500 0- 1500/mont',                '1,600 - 2,05',\n",
       "                      '0-1500/month',             'About 1000/mont',\n",
       "                  '0 -1000RMB/month',            'About 1,500/mont',\n",
       "              'About 1500-2000/mont',                  '1500/month',\n",
       "                '2,400 - 3,000/mont',         'About 1000RMB/month',\n",
       "               'About 2400/per mont',                  '1000/month',\n",
       "                      '0-1000/month',        'About 2450/per month',\n",
       "                       '900RMB/mont',               '0- 1000/month',\n",
       "       'About 800-1000RMB/per month',                 '0-1000/mont',\n",
       "                'about RMB1000/mont',        'about RMB 1000/month',\n",
       "                      '1500 / month',                '900RMB /mont',\n",
       "                    '2400 0-2400RMB',             'About 500/month',\n",
       "                           '0/month',                '0-1200/month',\n",
       "                          '500/mont',       'About 1000-1500/month',\n",
       "                'About 1000/4 weeks',                   '2000/mont',\n",
       "                    '1,500RMB/month',         'about RMB 1000/mont',\n",
       "                  'Around 2200/mont',          'About 2000RMB/Mont'],\n",
       "      dtype='object')"
      ]
     },
     "execution_count": 37,
     "metadata": {},
     "output_type": "execute_result"
    }
   ],
   "source": [
    "len(data['Living expense to pay'].value_counts().keys()) #40eys \n",
    "living_topay_unique = data['Living expense to pay'].value_counts().keys()\n",
    "living_topay_unique"
   ]
  },
  {
   "cell_type": "code",
   "execution_count": 38,
   "metadata": {},
   "outputs": [],
   "source": [
    "def get_value_duration(i):\n",
    "    index = i.find('/')\n",
    "    value = i[:index]\n",
    "    duration = i[index+1:]\n",
    "    return value,duration"
   ]
  },
  {
   "cell_type": "code",
   "execution_count": 39,
   "metadata": {},
   "outputs": [],
   "source": [
    "temp = data['Living expense to pay']\n",
    "data['Expense_To_Pay'] = -1\n",
    "data['Expense_duration'] = -1\n",
    "for i in living_topay_unique:\n",
    "    i_copy = i\n",
    "    i = str(i).upper().replace('ABOUT','')\n",
    "    i = str(i).upper().replace('AROUND','')\n",
    "    i = str(i).upper().replace('RMB','')\n",
    "    if i.find('/')!=-1:\n",
    "        value,duration = get_value_duration(i)\n",
    "        data.loc[temp==i_copy,'Expense_To_Pay'] = value\n",
    "        data.loc[temp==i_copy,'Expense_duration'] = duration\n",
    "    elif i==0 or i=='0':\n",
    "        data.loc[temp==i_copy,'Expense_To_Pay'] = 0\n",
    "        data.loc[temp==i_copy,'Expense_duration'] = 'MONTH'  \n",
    "\n",
    "    \n",
    "    if i=='1,600 - 2,05':\n",
    "        data.loc[temp==i_copy,'Expense_To_Pay'] = 2000\n",
    "        data.loc[temp==i_copy,'Expense_duration'] = 'MONTH'\n",
    "    \n",
    "    if i=='2400 0-2400':\n",
    "        data.loc[temp==i_copy,'Expense_To_Pay'] = 1200\n",
    "        data.loc[temp==i_copy,'Expense_duration'] = 'MONTH' "
   ]
  },
  {
   "cell_type": "markdown",
   "metadata": {},
   "source": [
    "#### A - Expense to pay"
   ]
  },
  {
   "cell_type": "code",
   "execution_count": 40,
   "metadata": {},
   "outputs": [],
   "source": [
    "def remove_commas(i):\n",
    "    return str(i).replace(',','')\n",
    "def remove_rmb(i):\n",
    "    return str(i).replace('RMB','')\n",
    "def average(i):\n",
    "    try:\n",
    "        if(i[-1]=='-'):\n",
    "            i = i[:len(i)-1]\n",
    "        index = i.find('-')\n",
    "        left = int(i[:index])\n",
    "        right = int(i[index+1:])\n",
    "        average = (left+right)/2\n",
    "        return average\n",
    "    except:\n",
    "        return 0"
   ]
  },
  {
   "cell_type": "code",
   "execution_count": 41,
   "metadata": {},
   "outputs": [],
   "source": [
    "expense_topay_unique = data['Expense_To_Pay'].value_counts().keys()\n",
    "for i in expense_topay_unique:\n",
    "    i_copy = i\n",
    "    i = str(i).strip()\n",
    "    if i.find(',')!=-1:\n",
    "        i = remove_commas(i)\n",
    "    if i.find('-')!=-1:\n",
    "        i = average(i)\n",
    "    else:\n",
    "        i = int(i)\n",
    "        \n",
    "    data['Expense_To_Pay'] = data['Expense_To_Pay'].replace(i_copy,i)\n",
    "#Strip the values to remove white spaces\n",
    "# Remove commasr\n",
    "#Find '-' and get the average"
   ]
  },
  {
   "cell_type": "markdown",
   "metadata": {},
   "source": [
    "#### B - Expense_duration"
   ]
  },
  {
   "cell_type": "code",
   "execution_count": 42,
   "metadata": {},
   "outputs": [
    {
     "data": {
      "text/plain": [
       "MONTH        2713\n",
       "MONT          763\n",
       "PER MONTH      49\n",
       "PER MONT       41\n",
       " MONTH          9\n",
       "4 WEEKS         1\n",
       "Name: Expense_duration, dtype: int64"
      ]
     },
     "execution_count": 42,
     "metadata": {},
     "output_type": "execute_result"
    }
   ],
   "source": [
    "data['Expense_duration'].value_counts()"
   ]
  },
  {
   "cell_type": "code",
   "execution_count": 43,
   "metadata": {},
   "outputs": [],
   "source": [
    "data['Expense_duration'] = 'MONTH'"
   ]
  },
  {
   "cell_type": "code",
   "execution_count": 44,
   "metadata": {},
   "outputs": [],
   "source": [
    "data = data.drop('Living expense to pay',axis=1)"
   ]
  },
  {
   "cell_type": "markdown",
   "metadata": {},
   "source": [
    "# THE END"
   ]
  },
  {
   "cell_type": "code",
   "execution_count": 45,
   "metadata": {},
   "outputs": [],
   "source": [
    "data.to_csv('cleaned.csv', encoding='utf-8', index=False)"
   ]
  }
 ],
 "metadata": {
  "kernelspec": {
   "display_name": "Python 3",
   "language": "python",
   "name": "python3"
  },
  "language_info": {
   "codemirror_mode": {
    "name": "ipython",
    "version": 3
   },
   "file_extension": ".py",
   "mimetype": "text/x-python",
   "name": "python",
   "nbconvert_exporter": "python",
   "pygments_lexer": "ipython3",
   "version": "3.7.1"
  }
 },
 "nbformat": 4,
 "nbformat_minor": 2
}
